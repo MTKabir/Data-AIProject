{
 "cells": [
  {
   "cell_type": "markdown",
   "id": "476066fb",
   "metadata": {},
   "source": [
    "# K-Means Clustering for Customer Segmentation"
   ]
  },
  {
   "cell_type": "code",
   "execution_count": null,
   "id": "ae4d2e30",
   "metadata": {},
   "outputs": [],
   "source": [
    "import pandas as pd\n",
    "import numpy as np\n",
    "from sklearn.preprocessing import StandardScaler\n",
    "from sklearn.decomposition import PCA\n",
    "from sklearn.cluster import KMeans\n",
    "from sklearn.metrics import silhouette_score\n",
    "import matplotlib.pyplot as plt\n",
    "import seaborn as sns\n",
    "\n",
    "sns.set(style=\"whitegrid\")\n"
   ]
  },
  {
   "cell_type": "markdown",
   "id": "3c63e056",
   "metadata": {},
   "source": [
    "## Load and Prepare Data"
   ]
  },
  {
   "cell_type": "code",
   "execution_count": null,
   "id": "32f6f444",
   "metadata": {},
   "outputs": [],
   "source": [
    "# Load cleaned dataset\n",
    "df = pd.read_csv('data/clean/order_klav_merge_customerLevel.csv')\n",
    "\n",
    "# Drop irrelevant columns\n",
    "df = df.drop(columns=[\n",
    "    'CLV', 'Email', 'List SKU', 'Last Source New', 'Initial Source New',\n",
    "    'Days since Date Added', 'Max Amount Orders', 'Max item amount',\n",
    "    'Days since Profile Created On', 'PayMeth_Card', 'PayMeth_Other',\n",
    "    'Always Free Shipping', 'Never Free Shipping'\n",
    "])\n"
   ]
  },
  {
   "cell_type": "markdown",
   "id": "5169fe7d",
   "metadata": {},
   "source": [
    "## Encode Top Cities and Countries"
   ]
  },
  {
   "cell_type": "code",
   "execution_count": null,
   "id": "fe3fba31",
   "metadata": {},
   "outputs": [],
   "source": [
    "# Encode top cities and countries\n",
    "top_cities = df['Recent City'].value_counts().nlargest(5).index\n",
    "top_countries = df['Recent Country'].value_counts().nlargest(3).index\n",
    "\n",
    "df['Recent City'] = df['Recent City'].apply(lambda x: x if x in top_cities else 'Other')\n",
    "df['Recent Country'] = df['Recent Country'].apply(lambda x: x if x in top_countries else 'Other')\n",
    "\n",
    "df = pd.get_dummies(df, columns=['Recent City', 'Recent Country'], drop_first=True)\n"
   ]
  },
  {
   "cell_type": "markdown",
   "id": "6fed7282",
   "metadata": {},
   "source": [
    "## PCA and K-Means Clustering"
   ]
  },
  {
   "cell_type": "code",
   "execution_count": null,
   "id": "01ac0372",
   "metadata": {},
   "outputs": [],
   "source": [
    "# Standardize and apply PCA\n",
    "X = df.values\n",
    "X_scaled = StandardScaler().fit_transform(X)\n",
    "pca = PCA(n_components=5)\n",
    "X_reduced = pca.fit_transform(X_scaled)\n",
    "\n",
    "# Fit K-Means\n",
    "kmeans = KMeans(n_clusters=5, random_state=42)\n",
    "df['cluster'] = kmeans.fit_predict(X_reduced)\n",
    "\n",
    "# Silhouette Score\n",
    "score = silhouette_score(X_reduced, df['cluster'])\n",
    "print(f\"K-Means Silhouette Score: {score:.2f}\")\n"
   ]
  },
  {
   "cell_type": "markdown",
   "id": "d323fc54",
   "metadata": {},
   "source": [
    "## Cluster Summary and Labeling"
   ]
  },
  {
   "cell_type": "code",
   "execution_count": null,
   "id": "f21b2788",
   "metadata": {},
   "outputs": [],
   "source": [
    "cluster_summary = df.groupby(\"cluster\").mean().round(2).reset_index()\n",
    "\n",
    "cluster_labels = {\n",
    "    0: \"VIP / Loyal Customers\",\n",
    "    1: \"Dormant Shoppers\",\n",
    "    2: \"Occasional Buyers\",\n",
    "    3: \"Promo-Engaged Buyers\",\n",
    "    4: \"Inactive Customers\"\n",
    "}\n",
    "df['cluster_label'] = df['cluster'].map(cluster_labels)\n",
    "cluster_summary['Cluster Label'] = cluster_summary['cluster'].map(cluster_labels)\n"
   ]
  },
  {
   "cell_type": "markdown",
   "id": "17ae92ed",
   "metadata": {},
   "source": [
    "## Feature Visualization by Cluster"
   ]
  },
  {
   "cell_type": "code",
   "execution_count": null,
   "id": "94fe97a4",
   "metadata": {},
   "outputs": [],
   "source": [
    "key_metrics = [\n",
    "    'Avg Amount Orders', 'Nb items', 'Avg Nb items', 'Avg item amount',\n",
    "    'PayMeth_Bancontact', 'PayMeth_Ideal', 'PayMeth_Klarna',\n",
    "    'PayMeth_Pay Later', 'PayMeth_shopify payments',\n",
    "    'Always Discount', 'Never Discount', 'Max Discount Percentage',\n",
    "    'Same SKU more than once', 'Email Marketing Consent', 'Accepts Marketing',\n",
    "    'click', 'open', 'Days since First Active', 'Days since Last Active',\n",
    "    'Recent City_amsterdam', 'Recent City_den haag', 'Recent City_haarlem',\n",
    "    'Recent City_rotterdam', 'Recent City_utrecht',\n",
    "    'Recent Country_be', 'Recent Country_de', 'Recent Country_nl'\n",
    "]\n",
    "\n",
    "for feature in key_metrics:\n",
    "    if feature in cluster_summary.columns:\n",
    "        plt.figure(figsize=(8, 4))\n",
    "        sns.barplot(data=cluster_summary, x=\"Cluster Label\", y=feature, palette=\"Set2\")\n",
    "        plt.title(f\"{feature} by Cluster\")\n",
    "        plt.xticks(rotation=20)\n",
    "        plt.tight_layout()\n",
    "        plt.show()\n"
   ]
  }
 ],
 "metadata": {
  "language_info": {
   "name": "python"
  }
 },
 "nbformat": 4,
 "nbformat_minor": 5
}
