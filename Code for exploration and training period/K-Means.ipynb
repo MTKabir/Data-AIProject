{
 "cells": [
  {
   "cell_type": "code",
   "execution_count": 1,
   "id": "4c21a158",
   "metadata": {},
   "outputs": [],
   "source": [
    "import pandas as pd\n",
    "from sklearn.preprocessing import StandardScaler\n",
    "from sklearn.cluster import KMeans\n",
    "import matplotlib.pyplot as plt\n",
    "from sklearn.decomposition import PCA\n",
    "import seaborn as sns\n",
    "from sklearn.metrics import silhouette_score\n",
    "import numpy as np"
   ]
  },
  {
   "cell_type": "code",
   "execution_count": null,
   "id": "6a9acf4e",
   "metadata": {},
   "outputs": [],
   "source": [
    "df = pd.read_csv('data//clean//order_klav_merge_customerLevel.csv')\n",
    "numeric_df = df.select_dtypes(include=[np.number])"
   ]
  },
  {
   "cell_type": "code",
   "execution_count": null,
   "id": "d5dab911",
   "metadata": {},
   "outputs": [],
   "source": [
    "#check variables correlation \n",
    "corr_matrix = numeric_df.corr()\n",
    "\n",
    "# Plot heatmap\n",
    "plt.figure(figsize=(16, 10))\n",
    "sns.heatmap(corr_matrix, cmap='coolwarm', annot=False, linewidths=0.5)\n",
    "plt.title(\"Correlation Heatmap of Customer Features\")\n",
    "plt.show()"
   ]
  },
  {
   "cell_type": "code",
   "execution_count": null,
   "id": "e2ea71c8",
   "metadata": {},
   "outputs": [],
   "source": [
    "#Creating dummy columns\n",
    "#get most 10 cities \n",
    "top_cities = df['Recent City'].value_counts().head(10)\n",
    "#print(top_cities)\n",
    "\n",
    "#replace other cities with Other, \n",
    "df['Recent City'] = df['Recent City'].apply(lambda x: x if x in top_cities.index else 'Other')\n",
    "#encode dummy variables\n",
    "df = pd.get_dummies(df, columns=['Recent City'], drop_first=True)\n",
    "\n",
    "#replace countries with other + pick top 10 countries \n",
    "df['Recent Country'] = df['Recent Country'].apply(lambda x: x if x in top_cities.index else 'Other')\n",
    "#encode dummy variables\n",
    "df = pd.get_dummies(df, columns=['Recent Country'], drop_first=True)\n",
    "\n",
    "#replace initial source with other + pick top 10\n",
    "df['Initial Source New'] = df['Initial Source New'].apply(lambda x: x if x in top_cities.index else 'Other')\n",
    "#encode dummy variables\n",
    "df = pd.get_dummies(df, columns=['Initial Source New'], drop_first=True)\n",
    "\n",
    "#replace Last source with other + pick top 10\n",
    "df['Last Source New'] = df['Last Source New'].apply(lambda x: x if x in top_cities.index else 'Other')\n",
    "#encode dummy variables\n",
    "df = pd.get_dummies(df, columns=['Last Source New'], drop_first=True)\n"
   ]
  },
  {
   "cell_type": "code",
   "execution_count": null,
   "id": "a153bd9f",
   "metadata": {},
   "outputs": [],
   "source": [
    "df = df.drop(columns=['CLV', 'Email', 'List SKU'])"
   ]
  },
  {
   "cell_type": "code",
   "execution_count": null,
   "id": "39794d7a",
   "metadata": {},
   "outputs": [],
   "source": [
    "#prepare X\n",
    "X = df.values\n",
    "scaler = StandardScaler()\n",
    "X = scaler.fit_transform(X)"
   ]
  },
  {
   "cell_type": "code",
   "execution_count": null,
   "id": "7129c713",
   "metadata": {},
   "outputs": [],
   "source": [
    "# inertia = []\n",
    "# K_range = range(1, 11)\n",
    "\n",
    "# for k in K_range:\n",
    "#     kmeans = KMeans(n_clusters=k, random_state=42)\n",
    "#     kmeans.fit(X)\n",
    "#     inertia.append(kmeans.inertia_)\n",
    "\n",
    "# plt.plot(K_range, inertia, marker='o')\n",
    "# plt.xlabel('Number of clusters (K)')\n",
    "# plt.ylabel('Inertia')\n",
    "# plt.title('Elbow Method for Optimal K')\n",
    "# plt.grid(True)\n",
    "# plt.show()\n"
   ]
  },
  {
   "cell_type": "code",
   "execution_count": null,
   "id": "3a6a8162",
   "metadata": {},
   "outputs": [],
   "source": [
    "#Train model\n",
    "kmeans = KMeans(n_clusters=4, random_state=42)\n",
    "kmeans_labels = kmeans.fit_predict(X)"
   ]
  },
  {
   "cell_type": "code",
   "execution_count": null,
   "id": "106b1ee8",
   "metadata": {},
   "outputs": [],
   "source": [
    "#plot results of K-means \n",
    "pca = PCA(n_components=2)\n",
    "X_pca = pca.fit_transform(X)\n",
    "\n",
    "# plt.scatter(X_pca[:, 0], X_pca[:, 1], c=kmeans_labels, cmap='viridis', s=50)\n",
    "# plt.title(\"K-Means Clustering with PCA (K=4)\")\n",
    "# plt.xlabel(\"PCA 1\")\n",
    "# plt.ylabel(\"PCA 2\")\n",
    "# plt.grid(True)\n",
    "# plt.show()"
   ]
  },
  {
   "cell_type": "code",
   "execution_count": null,
   "id": "4b7368a6",
   "metadata": {},
   "outputs": [],
   "source": [
    "#label results\n",
    "df['cluster'] = kmeans_labels\n",
    "#df.to_csv('Github//BigDataAI_Project//Train_models//k_means//clustered_data.csv', index=False)"
   ]
  },
  {
   "cell_type": "code",
   "execution_count": null,
   "id": "168b4b4b",
   "metadata": {},
   "outputs": [],
   "source": [
    "#plot xlusters centers \n",
    "centers = pca.transform(kmeans.cluster_centers_)\n",
    "\n",
    "# plt.scatter(X_pca[:, 0], X_pca[:, 1], c=kmeans_labels, cmap='viridis', s=50)\n",
    "# plt.scatter(centers[:, 0], centers[:, 1], c='red', s=200, marker='X', label='Centroids')\n",
    "# plt.title(\"K-Means Clustering with Centroids (PCA)\")\n",
    "# plt.xlabel(\"PCA 1\")\n",
    "# plt.ylabel(\"PCA 2\")\n",
    "# plt.legend()\n",
    "# plt.grid(True)\n",
    "# plt.show()"
   ]
  },
  {
   "cell_type": "code",
   "execution_count": null,
   "id": "a7134938",
   "metadata": {},
   "outputs": [],
   "source": [
    "#explore clusters charecterestic\n",
    "# cluster_summary = df.groupby('cluster').mean()\n",
    "# print(cluster_summary)\n",
    "\n",
    "# print(df['cluster'].value_counts())\n",
    "\n",
    "# # Exploring clusters for business overview\n",
    "# sns.boxplot(x='cluster', y='DaysSinceRecentOrder', data=df)\n",
    "# plt.title(\"DaysSinceRecentOrder\")\n",
    "# plt.show()"
   ]
  },
  {
   "cell_type": "code",
   "execution_count": null,
   "id": "480fb44b",
   "metadata": {},
   "outputs": [],
   "source": [
    "cluster_profiles = df.groupby(\"cluster\").mean(numeric_only=True)\n",
    "\n",
    "# Count of records in each cluster\n",
    "cluster_counts = df[\"cluster\"].value_counts().sort_index()\n",
    "\n",
    "# tools.display_dataframe_to_user(name=\"Cluster Profiles\", dataframe=cluster_profiles)\n",
    "print(cluster_profiles)\n",
    "\n",
    "print(cluster_counts)\n",
    "\n",
    "cluster_profiles_with_counts = cluster_profiles.copy()\n",
    "cluster_profiles_with_counts['count'] = cluster_counts\n"
   ]
  },
  {
   "cell_type": "code",
   "execution_count": null,
   "id": "d44a0cfb",
   "metadata": {},
   "outputs": [],
   "source": [
    "# Save to CSV\n",
    "summary_output_path = \"cluster_summary_profiles.csv\"\n",
    "cluster_profiles_with_counts.to_csv(summary_output_path)\n"
   ]
  },
  {
   "cell_type": "code",
   "execution_count": null,
   "id": "fdeccbd3",
   "metadata": {},
   "outputs": [],
   "source": [
    "cluster_labels = {\n",
    "    0: \"Dormant Shoppers\",\n",
    "    1: \"VIP / Loyal Customers\",\n",
    "    2: \"Occasional Buyers\",\n",
    "    3: \"Inactive Customers\"\n",
    "}\n",
    "\n",
    "df['cluster_label'] = df['cluster'].map(cluster_labels)"
   ]
  },
  {
   "cell_type": "code",
   "execution_count": null,
   "id": "57733bd6",
   "metadata": {},
   "outputs": [],
   "source": [
    "sil_score = silhouette_score(X, kmeans_labels)\n",
    "print(f\"K-Means Silhouette Score: {sil_score:.2f}\")"
   ]
  }
 ],
 "metadata": {
  "kernelspec": {
   "display_name": "Python 3",
   "language": "python",
   "name": "python3"
  },
  "language_info": {
   "codemirror_mode": {
    "name": "ipython",
    "version": 3
   },
   "file_extension": ".py",
   "mimetype": "text/x-python",
   "name": "python",
   "nbconvert_exporter": "python",
   "pygments_lexer": "ipython3",
   "version": "3.12.1"
  }
 },
 "nbformat": 4,
 "nbformat_minor": 5
}
