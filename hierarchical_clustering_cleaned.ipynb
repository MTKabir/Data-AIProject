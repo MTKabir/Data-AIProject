{
 "cells": [
  {
   "cell_type": "markdown",
   "id": "c35da12a",
   "metadata": {},
   "source": [
    "# Hierarchical Clustering for Customer Segmentation"
   ]
  },
  {
   "cell_type": "code",
   "execution_count": null,
   "id": "1098754a",
   "metadata": {},
   "outputs": [],
   "source": [
    "import pandas as pd\n",
    "import numpy as np\n",
    "from sklearn.preprocessing import StandardScaler\n",
    "from sklearn.decomposition import PCA\n",
    "from sklearn.cluster import AgglomerativeClustering\n",
    "from sklearn.metrics import silhouette_score\n",
    "import matplotlib.pyplot as plt\n",
    "import seaborn as sns\n",
    "\n",
    "sns.set(style=\"whitegrid\")\n"
   ]
  },
  {
   "cell_type": "markdown",
   "id": "1e7ceccc",
   "metadata": {},
   "source": [
    "## Load and Prepare Data"
   ]
  },
  {
   "cell_type": "code",
   "execution_count": null,
   "id": "96b27a39",
   "metadata": {},
   "outputs": [],
   "source": [
    "df = pd.read_csv('order_klav_merge_customerLevel.csv')\n",
    "\n",
    "# Drop irrelevant columns\n",
    "df = df.drop(columns=[\n",
    "    'CLV', 'Email', 'List SKU', 'Last Source New', 'Initial Source New',\n",
    "    'Days since Date Added'\n",
    "])\n"
   ]
  },
  {
   "cell_type": "markdown",
   "id": "5778bc14",
   "metadata": {},
   "source": [
    "## Encode Top Cities and Countries"
   ]
  },
  {
   "cell_type": "code",
   "execution_count": null,
   "id": "93560aaa",
   "metadata": {},
   "outputs": [],
   "source": [
    "top_cities = df['Recent City'].value_counts().nlargest(5).index\n",
    "top_countries = df['Recent Country'].value_counts().nlargest(3).index\n",
    "\n",
    "df['Recent City'] = df['Recent City'].apply(lambda x: x if x in top_cities else 'Other')\n",
    "df['Recent Country'] = df['Recent Country'].apply(lambda x: x if x in top_countries else 'Other')\n",
    "\n",
    "df = pd.get_dummies(df, columns=['Recent City', 'Recent Country'], drop_first=False)\n"
   ]
  },
  {
   "cell_type": "markdown",
   "id": "6567ab81",
   "metadata": {},
   "source": [
    "## Scale Features and Apply PCA"
   ]
  },
  {
   "cell_type": "code",
   "execution_count": null,
   "id": "e9b45d76",
   "metadata": {},
   "outputs": [],
   "source": [
    "X = df.values\n",
    "scaler = StandardScaler()\n",
    "X_scaled = scaler.fit_transform(X)\n",
    "\n",
    "pca = PCA(n_components=0.95)\n",
    "X_reduced = pca.fit_transform(X_scaled)\n"
   ]
  },
  {
   "cell_type": "markdown",
   "id": "6f49ae28",
   "metadata": {},
   "source": [
    "## Fit Hierarchical Clustering Model"
   ]
  },
  {
   "cell_type": "code",
   "execution_count": null,
   "id": "f63ff89b",
   "metadata": {},
   "outputs": [],
   "source": [
    "hc = AgglomerativeClustering(n_clusters=5, affinity='manhattan', linkage='average')\n",
    "df['hc_cluster'] = hc.fit_predict(X_reduced)\n"
   ]
  },
  {
   "cell_type": "markdown",
   "id": "8f44ac01",
   "metadata": {},
   "source": [
    "## Evaluate Clustering"
   ]
  },
  {
   "cell_type": "code",
   "execution_count": null,
   "id": "89ea2240",
   "metadata": {},
   "outputs": [],
   "source": [
    "silhouette = silhouette_score(X_reduced, df['hc_cluster'], metric='manhattan')\n",
    "print(f\"Silhouette Score: {silhouette:.4f}\")\n"
   ]
  },
  {
   "cell_type": "markdown",
   "id": "61b697ef",
   "metadata": {},
   "source": [
    "## Cluster Summary and Business Labeling"
   ]
  },
  {
   "cell_type": "code",
   "execution_count": null,
   "id": "d2ba9108",
   "metadata": {},
   "outputs": [],
   "source": [
    "cluster_summary = df.groupby('hc_cluster').mean(numeric_only=True).reset_index()\n",
    "\n",
    "cluster_labels = {\n",
    "    0: \"Dormant Shoppers\",\n",
    "    1: \"Churned Casual Buyers\",\n",
    "    2: \"New & Engaged Buyers\",\n",
    "    3: \"Loyal Core Customers\",\n",
    "    4: \"Promo-Responsive Customers\"\n",
    "}\n",
    "cluster_summary['Cluster Label'] = cluster_summary['hc_cluster'].map(cluster_labels)\n"
   ]
  },
  {
   "cell_type": "markdown",
   "id": "344ee55f",
   "metadata": {},
   "source": [
    "## Feature Visualization by Cluster"
   ]
  },
  {
   "cell_type": "code",
   "execution_count": null,
   "id": "f032527d",
   "metadata": {},
   "outputs": [],
   "source": [
    "key_metrics = [\n",
    "    'Avg Amount Orders', 'Nb items', 'Avg Nb items', 'Avg item amount',\n",
    "    'PayMeth_Bancontact', 'PayMeth_Ideal', 'PayMeth_Klarna',\n",
    "    'PayMeth_Pay Later', 'PayMeth_shopify payments',\n",
    "    'Always Discount', 'Never Discount', 'Max Discount Percentage',\n",
    "    'Same SKU more than once', 'Email Marketing Consent', 'Accepts Marketing',\n",
    "    'click', 'open', 'Days since First Active', 'Days since Last Active'\n",
    "]\n",
    "\n",
    "for feature in key_metrics:\n",
    "    if feature in cluster_summary.columns:\n",
    "        plt.figure(figsize=(8, 4))\n",
    "        sns.barplot(data=cluster_summary, x=\"Cluster Label\", y=feature, palette=\"Set2\")\n",
    "        plt.title(f\"{feature} by Cluster\")\n",
    "        plt.xticks(rotation=20)\n",
    "        plt.tight_layout()\n",
    "        plt.show()\n"
   ]
  },
  {
   "cell_type": "markdown",
   "id": "a66ef503",
   "metadata": {},
   "source": [
    "## City and Country Distribution by Cluster"
   ]
  },
  {
   "cell_type": "code",
   "execution_count": null,
   "id": "faeceb47",
   "metadata": {},
   "outputs": [],
   "source": [
    "city_cols = ['Recent City_amsterdam', 'Recent City_den haag', 'Recent City_haarlem',\n",
    "             'Recent City_rotterdam', 'Recent City_utrecht']\n",
    "country_cols = ['Recent Country_be', 'Recent Country_de', 'Recent Country_nl']\n",
    "\n",
    "for col in city_cols + country_cols:\n",
    "    if col in cluster_summary.columns:\n",
    "        plt.figure(figsize=(8, 4))\n",
    "        sns.barplot(data=cluster_summary, x=\"Cluster Label\", y=col, palette=\"pastel\")\n",
    "        plt.title(f\"{col.replace('_', ' ').title()} by Cluster\")\n",
    "        plt.xlabel(\"Customer Segment\")\n",
    "        plt.ylabel(\"Proportion\")\n",
    "        plt.tight_layout()\n",
    "        plt.show()\n"
   ]
  }
 ],
 "metadata": {},
 "nbformat": 4,
 "nbformat_minor": 5
}
