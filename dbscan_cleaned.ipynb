{
 "cells": [
  {
   "cell_type": "markdown",
   "id": "78b6c661",
   "metadata": {},
   "source": [
    "# DBSCAN Clustering with Feature Engineering, PCA, and Analysis"
   ]
  },
  {
   "cell_type": "code",
   "execution_count": null,
   "id": "23f11b6d",
   "metadata": {},
   "outputs": [],
   "source": [
    "import pandas as pd\n",
    "import numpy as np\n",
    "from sklearn.preprocessing import StandardScaler\n",
    "from sklearn.decomposition import PCA\n",
    "from sklearn.cluster import DBSCAN\n",
    "from sklearn.metrics import silhouette_score\n",
    "import matplotlib.pyplot as plt\n",
    "import seaborn as sns\n",
    "import hdbscan\n",
    "\n",
    "sns.set(style=\"whitegrid\")\n"
   ]
  },
  {
   "cell_type": "markdown",
   "id": "256908f4",
   "metadata": {},
   "source": [
    "## Load and Prepare Dataset"
   ]
  },
  {
   "cell_type": "code",
   "execution_count": null,
   "id": "27b461ae",
   "metadata": {},
   "outputs": [],
   "source": [
    "df = pd.read_csv('data/clean/order_klav_merge_customerLevel.csv')\n",
    "\n",
    "# Get top cities and countries\n",
    "top_cities = df['Recent City'].value_counts().head(5)\n",
    "top_countries = df['Recent Country'].value_counts().head(3)\n",
    "\n",
    "# Replace others\n",
    "df['Recent City'] = df['Recent City'].apply(lambda x: x if x in top_cities.index else 'Other')\n",
    "df['Recent Country'] = df['Recent Country'].apply(lambda x: x if x in top_countries.index else 'Other')\n",
    "\n",
    "# Encode dummies\n",
    "df = pd.get_dummies(df, columns=['Recent City', 'Recent Country'], drop_first=True)\n",
    "\n",
    "# Drop irrelevant or redundant columns\n",
    "df = df.drop(columns=[\n",
    "    'CLV', 'Email', 'List SKU', 'Last Source New', 'Initial Source New', 'Days since Date Added',\n",
    "    'Max Amount Orders', 'Max item amount', 'Days since Profile Created On',\n",
    "    'PayMeth_Card','PayMeth_Other', 'Always Free Shipping', 'Never Free Shipping'\n",
    "])\n"
   ]
  },
  {
   "cell_type": "markdown",
   "id": "adb11ead",
   "metadata": {},
   "source": [
    "## Scale and Apply PCA"
   ]
  },
  {
   "cell_type": "code",
   "execution_count": null,
   "id": "349fb82a",
   "metadata": {},
   "outputs": [],
   "source": [
    "X = df.values\n",
    "scaler = StandardScaler()\n",
    "X_scaled = scaler.fit_transform(X)\n",
    "\n",
    "pca = PCA(n_components=10)\n",
    "X_reduced = pca.fit_transform(X_scaled)\n"
   ]
  },
  {
   "cell_type": "markdown",
   "id": "9f47350a",
   "metadata": {},
   "source": [
    "## DBSCAN Clustering"
   ]
  },
  {
   "cell_type": "code",
   "execution_count": null,
   "id": "301b3fda",
   "metadata": {},
   "outputs": [],
   "source": [
    "dbscan = DBSCAN(eps=0.4, min_samples=40)\n",
    "dbscan_labels = dbscan.fit_predict(X_reduced)\n",
    "df['dbscan_cluster'] = dbscan_labels\n"
   ]
  },
  {
   "cell_type": "markdown",
   "id": "6c56deb9",
   "metadata": {},
   "source": [
    "## Cluster Summary"
   ]
  },
  {
   "cell_type": "code",
   "execution_count": null,
   "id": "e42e5e82",
   "metadata": {},
   "outputs": [],
   "source": [
    "cluster_summary = df.groupby('dbscan_cluster').mean(numeric_only=True).round(2)\n",
    "cluster_sizes = df['dbscan_cluster'].value_counts().sort_index()\n",
    "cluster_summary['Cluster Size'] = cluster_sizes\n",
    "cluster_summary = cluster_summary.reset_index()\n",
    "\n",
    "# Save\n",
    "cluster_summary.to_csv(\"comparison_with_noise_cluster.csv\", index=False)\n",
    "\n",
    "# View key metrics\n",
    "selected_columns = [\n",
    "    'dbscan_cluster', 'Cluster Size', 'Nb Orders', 'Amount Orders', 'Avg Amount Orders',\n",
    "    'DaysSinceRecentOrder', 'Days since Last Active', 'click', 'open', 'Accepts Marketing'\n",
    "]\n",
    "cluster_summary[selected_columns].sort_values(by=\"Cluster Size\", ascending=False)\n"
   ]
  },
  {
   "cell_type": "markdown",
   "id": "fe490455",
   "metadata": {},
   "source": [
    "## Evaluate Clustering"
   ]
  },
  {
   "cell_type": "code",
   "execution_count": null,
   "id": "d4759eaf",
   "metadata": {},
   "outputs": [],
   "source": [
    "valid = dbscan_labels != -1\n",
    "if np.any(valid):\n",
    "    sil = silhouette_score(X_reduced[valid], dbscan_labels[valid])\n",
    "    print(f\"DBSCAN Silhouette Score (no noise): {sil:.4f}\")\n",
    "else:\n",
    "    print(\"No valid clusters for silhouette score.\")\n"
   ]
  },
  {
   "cell_type": "markdown",
   "id": "092ed272",
   "metadata": {},
   "source": [
    "## Visualize Clusters in PCA Space"
   ]
  },
  {
   "cell_type": "code",
   "execution_count": null,
   "id": "8b22e22f",
   "metadata": {},
   "outputs": [],
   "source": [
    "plt.figure(figsize=(10, 6))\n",
    "plt.scatter(X_reduced[:, 0], X_reduced[:, 1], c=dbscan_labels, cmap='tab10', s=10)\n",
    "plt.title(\"DBSCAN Clustering (PCA 2D)\")\n",
    "plt.xlabel(\"PCA 1\")\n",
    "plt.ylabel(\"PCA 2\")\n",
    "plt.grid(True)\n",
    "plt.tight_layout()\n",
    "plt.show()\n"
   ]
  },
  {
   "cell_type": "markdown",
   "id": "30efac5b",
   "metadata": {},
   "source": [
    "## Optional: HDBSCAN Comparison"
   ]
  },
  {
   "cell_type": "code",
   "execution_count": null,
   "id": "ebd3da0d",
   "metadata": {},
   "outputs": [],
   "source": [
    "clusterer = hdbscan.HDBSCAN(min_cluster_size=350, min_samples=5, prediction_data=True)\n",
    "hdb_labels = clusterer.fit_predict(X_reduced)\n",
    "\n",
    "# Evaluate\n",
    "valid = hdb_labels != -1\n",
    "if np.any(valid):\n",
    "    sil_score = silhouette_score(X_reduced[valid], hdb_labels[valid])\n",
    "    print(f\"HDBSCAN Silhouette Score (excluding noise): {sil_score:.4f}\")\n",
    "else:\n",
    "    print(\"No valid clusters to evaluate.\")\n",
    "\n",
    "# Cluster distribution\n",
    "unique, counts = np.unique(hdb_labels, return_counts=True)\n",
    "print(\"HDBSCAN cluster distribution:\", dict(zip(unique, counts)))\n"
   ]
  }
 ],
 "metadata": {},
 "nbformat": 4,
 "nbformat_minor": 5
}
